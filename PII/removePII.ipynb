{
 "cells": [
  {
   "cell_type": "markdown",
   "metadata": {},
   "source": [
    "## **Extracting PII Information from Documents**\n",
    "\n",
    "I have an example PDF document that contains Personal Identifiable Information (PII).\n",
    "\n",
    "Imagine a scenario where we need to either a) tag this information and/or b) scrub this information from the document. This is how we can do it using Pydantic, insturctor, and Open AI."
   ]
  },
  {
   "cell_type": "code",
   "execution_count": 7,
   "metadata": {},
   "outputs": [],
   "source": [
    "#!pip install openai --upgrade\n",
    "#!pip install instructor"
   ]
  },
  {
   "cell_type": "code",
   "execution_count": 1,
   "metadata": {},
   "outputs": [],
   "source": [
    "from src.utils import read_pdf, model_query\n",
    "from src.models import PIIData"
   ]
  },
  {
   "cell_type": "code",
   "execution_count": 2,
   "metadata": {},
   "outputs": [],
   "source": [
    "PII_TEMPLATE = \"\"\"\n",
    "You are an expert Personally Identifiable Information (PII) scrubbing model.\n",
    "Personally identifiable information (PII) is any data that could potentially identify a specific individual.\n",
    "Extract the PII data from the following document.\n",
    "\"\"\"\n",
    "\n",
    "EXAMPLE_DOCUMENT = read_pdf(\"exampleDoc.pdf\")\n",
    "\n",
    "GPT_MODEL = \"gpt-3.5-turbo-0613\"\n",
    "\n",
    "pii_data = model_query(\n",
    "    pydantic_class=PIIData,\n",
    "    system_prompt=PII_TEMPLATE,\n",
    "    query=EXAMPLE_DOCUMENT,\n",
    "    model=GPT_MODEL,\n",
    ")"
   ]
  },
  {
   "cell_type": "markdown",
   "metadata": {},
   "source": [
    "## **Showing the PII Data**"
   ]
  },
  {
   "cell_type": "code",
   "execution_count": 3,
   "metadata": {},
   "outputs": [
    {
     "name": "stdout",
     "output_type": "stream",
     "text": [
      "{\n",
      "  \"pii_data\": [\n",
      "    {\n",
      "      \"index\": 4,\n",
      "      \"data_type\": \"amount\",\n",
      "      \"pii_value\": \"£999.99\"\n",
      "    },\n",
      "    {\n",
      "      \"index\": 5,\n",
      "      \"data_type\": \"bank_account_number\",\n",
      "      \"pii_value\": \"12349876\"\n",
      "    },\n",
      "    {\n",
      "      \"index\": 8,\n",
      "      \"data_type\": \"national_insurance_number\",\n",
      "      \"pii_value\": \"AB124321E\"\n",
      "    },\n",
      "    {\n",
      "      \"index\": 17,\n",
      "      \"data_type\": \"email\",\n",
      "      \"pii_value\": \"jbloggs@gmail.com\"\n",
      "    }\n",
      "  ]\n",
      "}\n"
     ]
    }
   ],
   "source": [
    "print(pii_data.model_dump_json(indent=2))"
   ]
  },
  {
   "cell_type": "markdown",
   "metadata": {},
   "source": [
    "## **Showing the document but with PII data obscured**"
   ]
  },
  {
   "cell_type": "code",
   "execution_count": 4,
   "metadata": {},
   "outputs": [
    {
     "name": "stdout",
     "output_type": "stream",
     "text": [
      "Example Documentation  \n",
      " \n",
      " \n",
      "Dear Mr. Joe Bloggs,  \n",
      " \n",
      "You have been found to be in arrears.  \n",
      "The amount owed is <amount_0>. If you do not respond within 30 days we will take the amount owed \n",
      "from your Bank Account number <bank_account_number_1>.  \n",
      " \n",
      "Our records show that your national insurance number is <national_insurance_number_2> – please confirm this in writing.  \n",
      " \n",
      "Sincerely,  \n",
      "Jane Doe  \n",
      " \n",
      "Sent to: <email_3>  \n",
      "Page Number: 1\n"
     ]
    }
   ],
   "source": [
    "print(pii_data.scrub_data(EXAMPLE_DOCUMENT))"
   ]
  },
  {
   "cell_type": "code",
   "execution_count": null,
   "metadata": {},
   "outputs": [],
   "source": []
  }
 ],
 "metadata": {
  "kernelspec": {
   "display_name": "Python 3",
   "language": "python",
   "name": "python3"
  },
  "language_info": {
   "codemirror_mode": {
    "name": "ipython",
    "version": 3
   },
   "file_extension": ".py",
   "mimetype": "text/x-python",
   "name": "python",
   "nbconvert_exporter": "python",
   "pygments_lexer": "ipython3",
   "version": "3.11.3"
  }
 },
 "nbformat": 4,
 "nbformat_minor": 2
}
