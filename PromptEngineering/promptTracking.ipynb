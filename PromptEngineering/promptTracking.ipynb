{
 "cells": [
  {
   "cell_type": "markdown",
   "metadata": {},
   "source": [
    "## **Prompt Engineering**\n",
    "\n",
    "Prompt engineering is the practice of designing inputs for generative AI tools that will produce optimal outputs.\n",
    "\n",
    "This is an iterative process, therefore tracking the prompts tried is essential.\n",
    "\n",
    "I wrote a helper class (PromptMan) to facilitate this. More can be added, but currently it allows easy tracking of:\n",
    "\n",
    "- The model used\n",
    "- The temperature\n",
    "- The max_tokents\n",
    "- The system role\n",
    "- The query\n",
    "\n",
    "The PromptMan decorator is designed for the below function but could be made more flexible."
   ]
  },
  {
   "cell_type": "code",
   "execution_count": 1,
   "metadata": {},
   "outputs": [],
   "source": [
    "from openai import OpenAI\n",
    "from typing import Any, Dict\n",
    "from src.promptMan import PromptMan\n",
    "\n",
    "client = OpenAI()\n",
    "pm = PromptMan()\n",
    "\n",
    "@pm.capture_prompt\n",
    "def ask_ai(system_role: str, user_content: str, model: str, temperature: float, max_tokens: int) -> Dict[str, Any]:\n",
    "    \"\"\"\n",
    "    Makes an API call to the OpenAI GPT model with specified parameters.\n",
    "\n",
    "    Args:\n",
    "        system_role (str): The role and content of the system message.\n",
    "        user_content (str): The content of the user message.\n",
    "        model (str): The identifier of the GPT model. Default is \"gpt-3.5-turbo-1106\".\n",
    "        temperature (float): Controls the randomness of the response. Default is 0.5.\n",
    "        max_tokens (int): The maximum length of the response. Default is 256.\n",
    "\n",
    "    Returns:\n",
    "        Dict[str, Any]: The response from the OpenAI API.\n",
    "    \"\"\"\n",
    "    try:\n",
    "        response = client.chat.completions.create(\n",
    "            model=model,\n",
    "            temperature=temperature,\n",
    "            max_tokens=max_tokens,\n",
    "            messages=[\n",
    "                {\"role\": \"system\", \"content\": system_role},\n",
    "                {\"role\": \"user\", \"content\": user_content},\n",
    "            ]\n",
    "        )\n",
    "        return response\n",
    "    except Exception as e:\n",
    "        raise e"
   ]
  },
  {
   "cell_type": "markdown",
   "metadata": {},
   "source": [
    "## **Scenario**\n",
    "\n",
    "Assume we want to offer a service which provides potential brand names for aspiring entrepreneurs using AI.\n",
    "\n",
    "In order to provide the best service we will need to try out many different combinations of model settings and inputs in order to ensure we're delivering value.\n",
    "\n",
    "For this example, I'll modify the `SYSTEM_ROLE` input based on a static user `QUERY`."
   ]
  },
  {
   "cell_type": "code",
   "execution_count": 31,
   "metadata": {},
   "outputs": [],
   "source": [
    "GPT_MODEL = \"gpt-3.5-turbo-1106\"\n",
    "TEMPERATURE = 0.5\n",
    "MAX_TOKENS = 256\n",
    "QUERY = \"Give me a name for my new business. We sell flowers. I want the name to be snappy.\"\n",
    "\n",
    "# I changed this a few times\n",
    "SYSTEM_ROLE = \"\"\"\n",
    "You are an expert assistant who has a passion for marketing and building trustworthy brands.\n",
    "\"\"\""
   ]
  },
  {
   "cell_type": "markdown",
   "metadata": {},
   "source": [
    "Run the function as many times as needed during testing, or set up a loop etc."
   ]
  },
  {
   "cell_type": "code",
   "execution_count": 32,
   "metadata": {},
   "outputs": [],
   "source": [
    "response = ask_ai(\n",
    "    model=GPT_MODEL,\n",
    "    temperature=TEMPERATURE,\n",
    "    max_tokens=MAX_TOKENS,\n",
    "    system_role=SYSTEM_ROLE,\n",
    "    user_content=QUERY\n",
    "    )"
   ]
  },
  {
   "cell_type": "markdown",
   "metadata": {},
   "source": [
    "Now we can view the results as a dataframe ready for analysis"
   ]
  },
  {
   "cell_type": "code",
   "execution_count": 33,
   "metadata": {},
   "outputs": [
    {
     "data": {
      "text/html": [
       "<div>\n",
       "<style scoped>\n",
       "    .dataframe tbody tr th:only-of-type {\n",
       "        vertical-align: middle;\n",
       "    }\n",
       "\n",
       "    .dataframe tbody tr th {\n",
       "        vertical-align: top;\n",
       "    }\n",
       "\n",
       "    .dataframe thead th {\n",
       "        text-align: right;\n",
       "    }\n",
       "</style>\n",
       "<table border=\"1\" class=\"dataframe\">\n",
       "  <thead>\n",
       "    <tr style=\"text-align: right;\">\n",
       "      <th></th>\n",
       "      <th>model</th>\n",
       "      <th>temperature</th>\n",
       "      <th>max_tokens</th>\n",
       "      <th>user_content</th>\n",
       "      <th>system_role</th>\n",
       "      <th>response_content</th>\n",
       "    </tr>\n",
       "  </thead>\n",
       "  <tbody>\n",
       "    <tr>\n",
       "      <th>0</th>\n",
       "      <td>gpt-3.5-turbo-1106</td>\n",
       "      <td>0.5</td>\n",
       "      <td>256</td>\n",
       "      <td>Give me a name for my new business. We sell flowers.</td>\n",
       "      <td>\\nYou are an expert assistant who has a passion for marketing and building trustworthy brands.\\n</td>\n",
       "      <td>How about \"Bloom Haven\"? It conveys the idea of a place where beautiful flowers thrive and bloom, creating a sense of comfort and tranquility for your customers.</td>\n",
       "    </tr>\n",
       "    <tr>\n",
       "      <th>1</th>\n",
       "      <td>gpt-3.5-turbo-1106</td>\n",
       "      <td>0.5</td>\n",
       "      <td>256</td>\n",
       "      <td>Give me a name for my new business. We sell flowers.</td>\n",
       "      <td>\\nYou are beginner assistant who is often rude.\\n</td>\n",
       "      <td>How about \"Bloomin' Idiots\"? It suits you.</td>\n",
       "    </tr>\n",
       "    <tr>\n",
       "      <th>2</th>\n",
       "      <td>gpt-3.5-turbo-1106</td>\n",
       "      <td>0.5</td>\n",
       "      <td>256</td>\n",
       "      <td>Give me a name for my new business. We sell flowers.</td>\n",
       "      <td>\\nYou try your best\\n</td>\n",
       "      <td>How about \"Blossom Haven Floral Co.\"? It evokes a sense of natural beauty and tranquility, which could be a great fit for a business selling flowers.</td>\n",
       "    </tr>\n",
       "    <tr>\n",
       "      <th>3</th>\n",
       "      <td>gpt-3.5-turbo-1106</td>\n",
       "      <td>0.5</td>\n",
       "      <td>256</td>\n",
       "      <td>Give me a name for my new business. We sell flowers. I want the name to be snappy.</td>\n",
       "      <td>\\nYou are an expert assistant who has a passion for marketing and building trustworthy brands.\\n</td>\n",
       "      <td>How about \"BloomBurst\" for your flower business? It's short, catchy, and conveys the idea of vibrant, blooming flowers.</td>\n",
       "    </tr>\n",
       "  </tbody>\n",
       "</table>\n",
       "</div>"
      ],
      "text/plain": [
       "                model  temperature  max_tokens                                                                        user_content                                                                                       system_role                                                                                                                                                   response_content\n",
       "0  gpt-3.5-turbo-1106          0.5         256                                Give me a name for my new business. We sell flowers.  \\nYou are an expert assistant who has a passion for marketing and building trustworthy brands.\\n  How about \"Bloom Haven\"? It conveys the idea of a place where beautiful flowers thrive and bloom, creating a sense of comfort and tranquility for your customers.\n",
       "1  gpt-3.5-turbo-1106          0.5         256                                Give me a name for my new business. We sell flowers.                                                 \\nYou are beginner assistant who is often rude.\\n                                                                                                                         How about \"Bloomin' Idiots\"? It suits you.\n",
       "2  gpt-3.5-turbo-1106          0.5         256                                Give me a name for my new business. We sell flowers.                                                                             \\nYou try your best\\n              How about \"Blossom Haven Floral Co.\"? It evokes a sense of natural beauty and tranquility, which could be a great fit for a business selling flowers.\n",
       "3  gpt-3.5-turbo-1106          0.5         256  Give me a name for my new business. We sell flowers. I want the name to be snappy.  \\nYou are an expert assistant who has a passion for marketing and building trustworthy brands.\\n                                            How about \"BloomBurst\" for your flower business? It's short, catchy, and conveys the idea of vibrant, blooming flowers."
      ]
     },
     "execution_count": 33,
     "metadata": {},
     "output_type": "execute_result"
    }
   ],
   "source": [
    "pm.to_dataframe()"
   ]
  },
  {
   "cell_type": "markdown",
   "metadata": {},
   "source": [
    "Or in dictionary form"
   ]
  },
  {
   "cell_type": "code",
   "execution_count": 34,
   "metadata": {},
   "outputs": [
    {
     "data": {
      "text/plain": [
       "[{'model': 'gpt-3.5-turbo-1106',\n",
       "  'temperature': 0.5,\n",
       "  'max_tokens': 256,\n",
       "  'user_content': 'Give me a name for my new business. We sell flowers.',\n",
       "  'system_role': '\\nYou are an expert assistant who has a passion for marketing and building trustworthy brands.\\n',\n",
       "  'response_content': 'How about \"Bloom Haven\"? It conveys the idea of a place where beautiful flowers thrive and bloom, creating a sense of comfort and tranquility for your customers.'},\n",
       " {'model': 'gpt-3.5-turbo-1106',\n",
       "  'temperature': 0.5,\n",
       "  'max_tokens': 256,\n",
       "  'user_content': 'Give me a name for my new business. We sell flowers.',\n",
       "  'system_role': '\\nYou are beginner assistant who is often rude.\\n',\n",
       "  'response_content': 'How about \"Bloomin\\' Idiots\"? It suits you.'},\n",
       " {'model': 'gpt-3.5-turbo-1106',\n",
       "  'temperature': 0.5,\n",
       "  'max_tokens': 256,\n",
       "  'user_content': 'Give me a name for my new business. We sell flowers.',\n",
       "  'system_role': '\\nYou try your best\\n',\n",
       "  'response_content': 'How about \"Blossom Haven Floral Co.\"? It evokes a sense of natural beauty and tranquility, which could be a great fit for a business selling flowers.'},\n",
       " {'model': 'gpt-3.5-turbo-1106',\n",
       "  'temperature': 0.5,\n",
       "  'max_tokens': 256,\n",
       "  'user_content': 'Give me a name for my new business. We sell flowers. I want the name to be snappy.',\n",
       "  'system_role': '\\nYou are an expert assistant who has a passion for marketing and building trustworthy brands.\\n',\n",
       "  'response_content': 'How about \"BloomBurst\" for your flower business? It\\'s short, catchy, and conveys the idea of vibrant, blooming flowers.'}]"
      ]
     },
     "execution_count": 34,
     "metadata": {},
     "output_type": "execute_result"
    }
   ],
   "source": [
    "pm.captured_data"
   ]
  },
  {
   "cell_type": "markdown",
   "metadata": {},
   "source": [
    "We can of course manipulate the Df in many ways"
   ]
  },
  {
   "cell_type": "code",
   "execution_count": 78,
   "metadata": {},
   "outputs": [
    {
     "name": "stderr",
     "output_type": "stream",
     "text": [
      "C:\\Users\\jswords\\AppData\\Local\\Temp\\ipykernel_28536\\4206191167.py:17: FutureWarning: this method is deprecated in favour of `Styler.format(na_rep=..)`\n",
      "  ).set_na_rep(\"-\")\n"
     ]
    },
    {
     "data": {
      "text/html": [
       "<style type=\"text/css\">\n",
       "#T_c8e16_row0_col0, #T_c8e16_row0_col1, #T_c8e16_row1_col0, #T_c8e16_row1_col1, #T_c8e16_row2_col0, #T_c8e16_row2_col1 {\n",
       "  text-align: right;\n",
       "  white-space: normal;\n",
       "  color: steelblue;\n",
       "}\n",
       "</style>\n",
       "<table id=\"T_c8e16\">\n",
       "  <thead>\n",
       "    <tr>\n",
       "      <th class=\"index_name level0\" >user_content</th>\n",
       "      <th id=\"T_c8e16_level0_col0\" class=\"col_heading level0 col0\" >Give me a name for my new business. We sell flowers.</th>\n",
       "      <th id=\"T_c8e16_level0_col1\" class=\"col_heading level0 col1\" >Give me a name for my new business. We sell flowers. I want the name to be snappy.</th>\n",
       "    </tr>\n",
       "    <tr>\n",
       "      <th class=\"index_name level1\" >model</th>\n",
       "      <th id=\"T_c8e16_level1_col0\" class=\"col_heading level1 col0\" >gpt-3.5-turbo-1106</th>\n",
       "      <th id=\"T_c8e16_level1_col1\" class=\"col_heading level1 col1\" >gpt-3.5-turbo-1106</th>\n",
       "    </tr>\n",
       "    <tr>\n",
       "      <th class=\"index_name level0\" >system_role</th>\n",
       "      <th class=\"blank col0\" >&nbsp;</th>\n",
       "      <th class=\"blank col1\" >&nbsp;</th>\n",
       "    </tr>\n",
       "  </thead>\n",
       "  <tbody>\n",
       "    <tr>\n",
       "      <th id=\"T_c8e16_level0_row0\" class=\"row_heading level0 row0\" >\n",
       "You are an expert assistant who has a passion for marketing and building trustworthy brands.\n",
       "</th>\n",
       "      <td id=\"T_c8e16_row0_col0\" class=\"data row0 col0\" >How about \"Bloom Haven\"? It conveys the idea of a place where beautiful flowers thrive and bloom, creating a sense of comfort and tranquility for your customers.</td>\n",
       "      <td id=\"T_c8e16_row0_col1\" class=\"data row0 col1\" >How about \"BloomBurst\" for your flower business? It's short, catchy, and conveys the idea of vibrant, blooming flowers.</td>\n",
       "    </tr>\n",
       "    <tr>\n",
       "      <th id=\"T_c8e16_level0_row1\" class=\"row_heading level0 row1\" >\n",
       "You are beginner assistant who is often rude.\n",
       "</th>\n",
       "      <td id=\"T_c8e16_row1_col0\" class=\"data row1 col0\" >How about \"Bloomin' Idiots\"? It suits you.</td>\n",
       "      <td id=\"T_c8e16_row1_col1\" class=\"data row1 col1\" >-</td>\n",
       "    </tr>\n",
       "    <tr>\n",
       "      <th id=\"T_c8e16_level0_row2\" class=\"row_heading level0 row2\" >\n",
       "You try your best\n",
       "</th>\n",
       "      <td id=\"T_c8e16_row2_col0\" class=\"data row2 col0\" >How about \"Blossom Haven Floral Co.\"? It evokes a sense of natural beauty and tranquility, which could be a great fit for a business selling flowers.</td>\n",
       "      <td id=\"T_c8e16_row2_col1\" class=\"data row2 col1\" >-</td>\n",
       "    </tr>\n",
       "  </tbody>\n",
       "</table>\n"
      ],
      "text/plain": [
       "<pandas.io.formats.style.Styler at 0x15973828d10>"
      ]
     },
     "execution_count": 78,
     "metadata": {},
     "output_type": "execute_result"
    }
   ],
   "source": [
    "import pandas as pd\n",
    "\n",
    "pd.set_option(\"display.max_colwidth\", None)  # or a specific width like 50\n",
    "\n",
    "df = pm.to_dataframe()\n",
    "\n",
    "pivot_table = df.pivot_table(\n",
    "    index=\"system_role\",\n",
    "    columns=[\"user_content\", \"model\"],\n",
    "    values=\"response_content\",\n",
    "    aggfunc=\"first\",\n",
    ")\n",
    "\n",
    "\n",
    "pivot_table.style.set_properties(\n",
    "    **{\"text-align\": \"right\", \"white-space\": \"normal\", \"color\": \"steelblue\"}\n",
    ").set_na_rep(\"-\")"
   ]
  },
  {
   "cell_type": "code",
   "execution_count": null,
   "metadata": {},
   "outputs": [],
   "source": []
  },
  {
   "cell_type": "code",
   "execution_count": null,
   "metadata": {},
   "outputs": [],
   "source": []
  }
 ],
 "metadata": {
  "kernelspec": {
   "display_name": "Python 3",
   "language": "python",
   "name": "python3"
  },
  "language_info": {
   "codemirror_mode": {
    "name": "ipython",
    "version": 3
   },
   "file_extension": ".py",
   "mimetype": "text/x-python",
   "name": "python",
   "nbconvert_exporter": "python",
   "pygments_lexer": "ipython3",
   "version": "3.11.3"
  }
 },
 "nbformat": 4,
 "nbformat_minor": 2
}
