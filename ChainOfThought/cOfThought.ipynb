{
 "cells": [
  {
   "cell_type": "markdown",
   "metadata": {},
   "source": [
    "## **Chain Of Thought**\n",
    "\n",
    "In any task we can include a chain of thought variable in our classes.\n",
    "\n",
    "This simple example classifies a piece of text based on defined labels (enums.py), and I also want to capture the chain of thought. THis can help us with prompt engineering."
   ]
  },
  {
   "cell_type": "code",
   "execution_count": 1,
   "metadata": {},
   "outputs": [],
   "source": [
    "from src.utils import model_query\n",
    "from src.models import MultiClassPrediction\n",
    "import openai\n",
    "import os\n",
    "from dotenv import load_dotenv, find_dotenv\n",
    "\n",
    "_ = load_dotenv(find_dotenv())  # read local .env file\n",
    "openai.api_key = os.environ[\"OPENAI_API_KEY\"]"
   ]
  },
  {
   "cell_type": "code",
   "execution_count": 2,
   "metadata": {},
   "outputs": [],
   "source": [
    "SYSTEM = \"\"\"\n",
    "You are an expert classifier.\n",
    "You receive content, systematically review it step-by-step, and classify it in with predefined labels.\n",
    "You should assign all labels that appear to be relevant.\n",
    "\"\"\"\n",
    "\n",
    "EXAMPLE = \"\"\"\n",
    "I've forgotten my password so can't see my bill.\n",
    "I want to buy the new laptop you've just released.\n",
    "\"\"\""
   ]
  },
  {
   "cell_type": "code",
   "execution_count": 3,
   "metadata": {},
   "outputs": [],
   "source": [
    "labeller = model_query(MultiClassPrediction, SYSTEM, EXAMPLE)"
   ]
  },
  {
   "cell_type": "code",
   "execution_count": 4,
   "metadata": {},
   "outputs": [
    {
     "name": "stdout",
     "output_type": "stream",
     "text": [
      "[<Label.BILLING: 'billing'>, <Label.SALES: 'sales'>]\n"
     ]
    }
   ],
   "source": [
    "print(labeller.predicted_labels)"
   ]
  },
  {
   "cell_type": "code",
   "execution_count": 5,
   "metadata": {},
   "outputs": [
    {
     "name": "stdout",
     "output_type": "stream",
     "text": [
      "The user mentions forgetting their password and not being able to see their bill, indicating a billing issue. Additionally, they express an interest in buying the new laptop, indicating a sales inquiry.\n"
     ]
    }
   ],
   "source": [
    "print(labeller.chain_of_thought)"
   ]
  },
  {
   "cell_type": "code",
   "execution_count": null,
   "metadata": {},
   "outputs": [],
   "source": []
  }
 ],
 "metadata": {
  "kernelspec": {
   "display_name": "Python 3",
   "language": "python",
   "name": "python3"
  },
  "language_info": {
   "codemirror_mode": {
    "name": "ipython",
    "version": 3
   },
   "file_extension": ".py",
   "mimetype": "text/x-python",
   "name": "python",
   "nbconvert_exporter": "python",
   "pygments_lexer": "ipython3",
   "version": "3.11.3"
  }
 },
 "nbformat": 4,
 "nbformat_minor": 2
}
