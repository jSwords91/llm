{
 "cells": [
  {
   "cell_type": "markdown",
   "metadata": {},
   "source": [
    "## **HyDE**\n",
    "\n",
    "**Hy**pothetical **D**ocument **E**mbedding, HyDE is an interesting approach to RAG-systems on AI engineering.\n",
    "\n",
    "The key idea is that a query, by definition, is a question, whereas the documents we are looking to retrieve contain an- (possible) answer, and the question & answer may occupy different embedding space.\n",
    "\n",
    "HyDE seeks to compensate for this by getting an LLM to produce sample answers. These answers are then fed in to the embedding space with the hope that they will be closer than the query on its own.\n",
    "\n",
    "The key limitation here is that the LLM should have *some* knowledge of the topic at hand, otherwise it is likely to hallucinate and therefore could lead to embeddings that are actually even less relevant."
   ]
  },
  {
   "cell_type": "code",
   "execution_count": 54,
   "metadata": {},
   "outputs": [],
   "source": [
    "from langchain.llms import OpenAI\n",
    "from langchain.embeddings import OpenAIEmbeddings\n",
    "from langchain.chains import LLMChain, HypotheticalDocumentEmbedder\n",
    "from langchain.chains import RetrievalQA\n",
    "from langchain.prompts import PromptTemplate\n",
    "from langchain.vectorstores import Chroma\n",
    "from langchain.document_loaders import TextLoader\n",
    "from langchain.chat_models import ChatOpenAI\n",
    "import langchain\n",
    "import openai\n",
    "import os\n",
    "from dotenv import load_dotenv, find_dotenv\n",
    "from src.langchainHelpers import PdfLoad\n",
    "\n",
    "_ = load_dotenv(find_dotenv())  # read local .env file\n",
    "openai.api_key = os.environ[\"OPENAI_API_KEY\"]\n",
    "\n",
    "langchain.debug = True"
   ]
  },
  {
   "cell_type": "markdown",
   "metadata": {},
   "source": [
    "## **Data & Constants**\n",
    "\n",
    "Here I will use a simple PDF, but this could be any data source or directory."
   ]
  },
  {
   "cell_type": "code",
   "execution_count": 78,
   "metadata": {},
   "outputs": [],
   "source": [
    "LLM = OpenAI(n=3, best_of=3)\n",
    "EMBEDDINGS = OpenAIEmbeddings()\n",
    "\n",
    "PROMPT_TEMPLATE = \"\"\"Please answer the question as best you can.\n",
    "Make sure you mention the key ideas & concepts where relevant.\n",
    "Answer in a variety of voices, ranging from professional to highly technical.\n",
    "Your answer should be concise.\n",
    "Question: {question}\n",
    "Answer:\"\"\"\n",
    "\n",
    "PROMPT = PromptTemplate(input_variables=[\"question\"], template=PROMPT_TEMPLATE)\n",
    "\n",
    "LLM_CHAIN = LLMChain(llm=LLM, prompt=PROMPT)\n",
    "\n",
    "PDF_FILEPATH = \"big-book-of-machine-learning-use-cases-2nd-edition.pdf\"\n",
    "\n",
    "texts = PdfLoad(PDF_FILEPATH).characterSplitter(chunk_size=1000, chunk_overlap=200)"
   ]
  },
  {
   "cell_type": "markdown",
   "metadata": {},
   "source": [
    "## **The Hypothetical Embedder**\n",
    "\n",
    "Here I define the embedder."
   ]
  },
  {
   "cell_type": "code",
   "execution_count": 79,
   "metadata": {},
   "outputs": [],
   "source": [
    "embedder = HypotheticalDocumentEmbedder(llm_chain=LLM_CHAIN, base_embeddings=EMBEDDINGS)"
   ]
  },
  {
   "cell_type": "markdown",
   "metadata": {},
   "source": [
    "Now if I call the embedder with a test query (with `lanchain.debug = True`) we can see what it going on.\n",
    "\n",
    "Note how I use a vague query which might yield poor results in a traditional vanilla-RAG application."
   ]
  },
  {
   "cell_type": "code",
   "execution_count": 80,
   "metadata": {},
   "outputs": [
    {
     "name": "stdout",
     "output_type": "stream",
     "text": [
      "\u001b[32;1m\u001b[1;3m[llm/start]\u001b[0m \u001b[1m[1:llm:OpenAI] Entering LLM run with input:\n",
      "\u001b[0m{\n",
      "  \"prompts\": [\n",
      "    \"Please answer the question as best you can.\\nMake sure you mention the key ideas & concepts where relevant.\\nAnswer in a variety of voices, ranging from professional to highly technical.\\nYour answer should be concise.\\nQuestion: What is is the biggest stadium?\\nAnswer:\"\n",
      "  ]\n",
      "}\n",
      "\u001b[36;1m\u001b[1;3m[llm/end]\u001b[0m \u001b[1m[1:llm:OpenAI] [1.63s] Exiting LLM run with output:\n",
      "\u001b[0m{\n",
      "  \"generations\": [\n",
      "    [\n",
      "      {\n",
      "        \"text\": \" The biggest stadium in the world is the Rungrado 1st of May Stadium in Pyongyang, North Korea. It has a seating capacity of 114,000 and is used for both sporting and musical events. The stadium was built in 1989 and is the home of the North Korean national football team.\",\n",
      "        \"generation_info\": {\n",
      "          \"finish_reason\": \"stop\",\n",
      "          \"logprobs\": null\n",
      "        },\n",
      "        \"type\": \"Generation\"\n",
      "      },\n",
      "      {\n",
      "        \"text\": \" The largest stadium in the world is the Rungrado 1st of May Stadium in North Korea, with a capacity of 114,000 people. It is located in the capital city of Pyongyang and was opened in 1989. It is used mainly for soccer (football) matches, mass games, and other national celebrations.\",\n",
      "        \"generation_info\": {\n",
      "          \"finish_reason\": \"stop\",\n",
      "          \"logprobs\": null\n",
      "        },\n",
      "        \"type\": \"Generation\"\n",
      "      },\n",
      "      {\n",
      "        \"text\": \" The biggest stadium in the world is the Rungrado 1st of May Stadium in Pyongyang, North Korea. It has a capacity of 114,000 and is used mainly for soccer and athletics events. It also serves as a venue for mass games and other large scale events. The stadium was built in 1989 and opened in 1989.\",\n",
      "        \"generation_info\": {\n",
      "          \"finish_reason\": \"stop\",\n",
      "          \"logprobs\": null\n",
      "        },\n",
      "        \"type\": \"Generation\"\n",
      "      }\n",
      "    ]\n",
      "  ],\n",
      "  \"llm_output\": {\n",
      "    \"token_usage\": {\n",
      "      \"completion_tokens\": 191,\n",
      "      \"total_tokens\": 248,\n",
      "      \"prompt_tokens\": 57\n",
      "    },\n",
      "    \"model_name\": \"text-davinci-003\"\n",
      "  },\n",
      "  \"run\": null\n",
      "}\n"
     ]
    }
   ],
   "source": [
    "result = embedder.embed_query(\"What is is the biggest stadium?\")"
   ]
  },
  {
   "cell_type": "markdown",
   "metadata": {},
   "source": [
    "## **Create the Vectorstore**\n",
    "\n",
    "I'll use Chroma. We could persist this too."
   ]
  },
  {
   "cell_type": "code",
   "execution_count": 81,
   "metadata": {},
   "outputs": [],
   "source": [
    "docsearch = Chroma.from_documents(texts, embedder)\n",
    "retriever = docsearch.as_retriever(k=3)"
   ]
  },
  {
   "cell_type": "markdown",
   "metadata": {},
   "source": [
    "## **Retrieve Relevant Docs**"
   ]
  },
  {
   "cell_type": "code",
   "execution_count": 82,
   "metadata": {},
   "outputs": [
    {
     "name": "stdout",
     "output_type": "stream",
     "text": [
      "\u001b[32;1m\u001b[1;3m[llm/start]\u001b[0m \u001b[1m[1:llm:OpenAI] Entering LLM run with input:\n",
      "\u001b[0m{\n",
      "  \"prompts\": [\n",
      "    \"Please answer the question as best you can.\\nMake sure you mention the key ideas & concepts where relevant.\\nAnswer in a variety of voices, ranging from professional to highly technical.\\nYour answer should be concise.\\nQuestion: What is Machine Learning?\\nAnswer:\"\n",
      "  ]\n",
      "}\n",
      "\u001b[36;1m\u001b[1;3m[llm/end]\u001b[0m \u001b[1m[1:llm:OpenAI] [1.90s] Exiting LLM run with output:\n",
      "\u001b[0m{\n",
      "  \"generations\": [\n",
      "    [\n",
      "      {\n",
      "        \"text\": \" Machine Learning is a subfield of Artificial Intelligence that builds algorithms to learn from data, identify patterns, and make decisions without being explicitly programmed. It uses techniques such as supervised learning, unsupervised learning, and reinforcement learning to process large amounts of data and provide predictions and recommendations. Machine Learning is used in a wide range of applications, from self-driving cars to voice recognition systems.\",\n",
      "        \"generation_info\": {\n",
      "          \"finish_reason\": \"stop\",\n",
      "          \"logprobs\": null\n",
      "        },\n",
      "        \"type\": \"Generation\"\n",
      "      },\n",
      "      {\n",
      "        \"text\": \" Machine Learning is a subfield of Artificial Intelligence (AI) that enables computers to learn from data and improve their performance with experience. It uses statistical techniques to analyze data and find patterns, allowing computers to make decisions and predictions based on the data they’ve been trained on. Machine Learning is a powerful tool that can be used for a variety of applications, ranging from facial recognition to natural language processing.\",\n",
      "        \"generation_info\": {\n",
      "          \"finish_reason\": \"stop\",\n",
      "          \"logprobs\": null\n",
      "        },\n",
      "        \"type\": \"Generation\"\n",
      "      },\n",
      "      {\n",
      "        \"text\": \" Machine Learning is a type of artificial intelligence that enables computer systems to learn from data and experience, without being explicitly programmed. It uses algorithms to identify patterns in large datasets, and uses those patterns to make predictions or decisions. Machine Learning can be used to automate tasks, provide insights, and improve decision-making.\",\n",
      "        \"generation_info\": {\n",
      "          \"finish_reason\": \"stop\",\n",
      "          \"logprobs\": null\n",
      "        },\n",
      "        \"type\": \"Generation\"\n",
      "      }\n",
      "    ]\n",
      "  ],\n",
      "  \"llm_output\": {\n",
      "    \"token_usage\": {\n",
      "      \"completion_tokens\": 220,\n",
      "      \"total_tokens\": 275,\n",
      "      \"prompt_tokens\": 55\n",
      "    },\n",
      "    \"model_name\": \"text-davinci-003\"\n",
      "  },\n",
      "  \"run\": null\n",
      "}\n"
     ]
    }
   ],
   "source": [
    "query = \"What is Machine Learning?\"\n",
    "docs = retriever.get_relevant_documents(query)"
   ]
  },
  {
   "cell_type": "code",
   "execution_count": 84,
   "metadata": {},
   "outputs": [
    {
     "name": "stdout",
     "output_type": "stream",
     "text": [
      "Document 1: \n",
      "\n",
      "Organizations across many industries are using machine learning to power \n",
      "new customer experiences, optimize business processes and improve \n",
      "employee productivity. From detecting financial fraud to improving the \n",
      "play-by-play decision-making for professional sports teams, this book \n",
      "brings together a multitude of practical use cases to get you started on \n",
      "your machine learning journey. The collection also serves as a guide — \n",
      "including code samples and notebooks — so you can roll up your sleeves \n",
      "and dive into machine learning on the Databricks Lakehouse.CHAPTER 1:\n",
      "Introduction\n",
      "3\n",
      "EBOOK: BIG BOOK OF MACHINE LEARNING USE CASES — 2ND EDITION\n",
      "--------------------------------------------------\n",
      "Document 2: \n",
      "\n",
      "Organizations across many industries are using machine learning to power \n",
      "new customer experiences, optimize business processes and improve \n",
      "employee productivity. From detecting financial fraud to improving the \n",
      "play-by-play decision-making for professional sports teams, this book \n",
      "brings together a multitude of practical use cases to get you started on \n",
      "your machine learning journey. The collection also serves as a guide — \n",
      "including code samples and notebooks — so you can roll up your sleeves \n",
      "and dive into machine learning on the Databricks Lakehouse.CHAPTER 1:\n",
      "Introduction\n",
      "3\n",
      "EBOOK: BIG BOOK OF MACHINE LEARNING USE CASES — 2ND EDITION\n",
      "--------------------------------------------------\n",
      "Document 3: \n",
      "\n",
      "Organizations across many industries are using machine learning to power \n",
      "new customer experiences, optimize business processes and improve \n",
      "employee productivity. From detecting financial fraud to improving the \n",
      "play-by-play decision-making for professional sports teams, this book \n",
      "brings together a multitude of practical use cases to get you started on \n",
      "your machine learning journey. The collection also serves as a guide — \n",
      "including code samples and notebooks — so you can roll up your sleeves \n",
      "and dive into machine learning on the Databricks Lakehouse.CHAPTER 1:\n",
      "Introduction\n",
      "3\n",
      "EBOOK: BIG BOOK OF MACHINE LEARNING USE CASES — 2ND EDITION\n",
      "--------------------------------------------------\n",
      "Document 4: \n",
      "\n",
      "Organizations across many industries are using machine learning to power \n",
      "new customer experiences, optimize business processes and improve \n",
      "employee productivity. From detecting financial fraud to improving the \n",
      "play-by-play decision-making for professional sports teams, this book \n",
      "brings together a multitude of practical use cases to get you started on \n",
      "your machine learning journey. The collection also serves as a guide — \n",
      "including code samples and notebooks — so you can roll up your sleeves \n",
      "and dive into machine learning on the Databricks Lakehouse.CHAPTER 1:\n",
      "Introduction\n",
      "3\n",
      "EBOOK: BIG BOOK OF MACHINE LEARNING USE CASES — 2ND EDITION\n"
     ]
    }
   ],
   "source": [
    "def show_documents(docs: list) -> None:\n",
    "    print(\n",
    "        f\"\\n{'-' * 50}\\n\".join(\n",
    "            [f\"Document {i + 1}: \\n\\n\" + d.page_content for i, d in enumerate(docs)]\n",
    "        )\n",
    "    )\n",
    "\n",
    "show_documents(docs)"
   ]
  },
  {
   "cell_type": "markdown",
   "metadata": {},
   "source": [
    "## **Utilise Docs in a Chain**\n",
    "\n",
    "Given we have now retrieved our docs, lets use these in an LLM chain to help answer the query."
   ]
  },
  {
   "cell_type": "code",
   "execution_count": 85,
   "metadata": {},
   "outputs": [],
   "source": [
    "CHAT_LLM = ChatOpenAI(temperature=0)\n",
    "\n",
    "qa_chain = RetrievalQA.from_chain_type(llm=CHAT_LLM, chain_type=\"stuff\", retriever=retriever)"
   ]
  },
  {
   "cell_type": "code",
   "execution_count": 86,
   "metadata": {},
   "outputs": [
    {
     "name": "stdout",
     "output_type": "stream",
     "text": [
      "\u001b[32;1m\u001b[1;3m[chain/start]\u001b[0m \u001b[1m[1:chain:RetrievalQA] Entering Chain run with input:\n",
      "\u001b[0m{\n",
      "  \"query\": \"What is Machine Learning?\"\n",
      "}\n",
      "\u001b[32;1m\u001b[1;3m[llm/start]\u001b[0m \u001b[1m[1:llm:OpenAI] Entering LLM run with input:\n",
      "\u001b[0m{\n",
      "  \"prompts\": [\n",
      "    \"Please answer the question as best you can.\\nMake sure you mention the key ideas & concepts where relevant.\\nAnswer in a variety of voices, ranging from professional to highly technical.\\nYour answer should be concise.\\nQuestion: What is Machine Learning?\\nAnswer:\"\n",
      "  ]\n",
      "}\n",
      "\u001b[36;1m\u001b[1;3m[llm/end]\u001b[0m \u001b[1m[1:llm:OpenAI] [3.14s] Exiting LLM run with output:\n",
      "\u001b[0m{\n",
      "  \"generations\": [\n",
      "    [\n",
      "      {\n",
      "        \"text\": \" Machine Learning is a field of Artificial Intelligence (AI) that focuses on enabling machines to learn from data and improve their performance over time without explicit programming. It uses algorithms to identify patterns in data and make predictions based on that data. Machine Learning is used in many areas, such as healthcare, finance, marketing, image recognition, robotics, and more.\",\n",
      "        \"generation_info\": {\n",
      "          \"finish_reason\": \"stop\",\n",
      "          \"logprobs\": null\n",
      "        },\n",
      "        \"type\": \"Generation\"\n",
      "      },\n",
      "      {\n",
      "        \"text\": \" Machine Learning (ML) is a subfield of Artificial Intelligence (AI) that allows systems to learn and improve from experience without being explicitly programmed. It utilizes algorithms that are able to identify patterns in data and adapt to changing input. ML algorithms can be used to make predictions, recognize patterns, detect anomalies, and automate tasks. ML techniques are used in a wide range of applications such as healthcare, finance, natural language processing, and computer vision.\",\n",
      "        \"generation_info\": {\n",
      "          \"finish_reason\": \"stop\",\n",
      "          \"logprobs\": null\n",
      "        },\n",
      "        \"type\": \"Generation\"\n",
      "      },\n",
      "      {\n",
      "        \"text\": \" Machine Learning is a type of artificial intelligence that enables computers to learn from data, identify patterns, and make decisions without explicit programming. It uses algorithms to detect patterns in large datasets and automatically adjust its models based on the data it has seen. Machine Learning can be used to solve complex problems, improve accuracy and efficiency, and automate decision-making processes.\",\n",
      "        \"generation_info\": {\n",
      "          \"finish_reason\": \"stop\",\n",
      "          \"logprobs\": null\n",
      "        },\n",
      "        \"type\": \"Generation\"\n",
      "      }\n",
      "    ]\n",
      "  ],\n",
      "  \"llm_output\": {\n",
      "    \"token_usage\": {\n",
      "      \"completion_tokens\": 229,\n",
      "      \"total_tokens\": 284,\n",
      "      \"prompt_tokens\": 55\n",
      "    },\n",
      "    \"model_name\": \"text-davinci-003\"\n",
      "  },\n",
      "  \"run\": null\n",
      "}\n",
      "\u001b[32;1m\u001b[1;3m[chain/start]\u001b[0m \u001b[1m[1:chain:RetrievalQA > 3:chain:StuffDocumentsChain] Entering Chain run with input:\n",
      "\u001b[0m[inputs]\n",
      "\u001b[32;1m\u001b[1;3m[chain/start]\u001b[0m \u001b[1m[1:chain:RetrievalQA > 3:chain:StuffDocumentsChain > 4:chain:LLMChain] Entering Chain run with input:\n",
      "\u001b[0m{\n",
      "  \"question\": \"What is Machine Learning?\",\n",
      "  \"context\": \"Organizations across many industries are using machine learning to power \\nnew customer experiences, optimize business processes and improve \\nemployee productivity. From detecting financial fraud to improving the \\nplay-by-play decision-making for professional sports teams, this book \\nbrings together a multitude of practical use cases to get you started on \\nyour machine learning journey. The collection also serves as a guide — \\nincluding code samples and notebooks — so you can roll up your sleeves \\nand dive into machine learning on the Databricks Lakehouse.CHAPTER 1:\\nIntroduction\\n3\\nEBOOK: BIG BOOK OF MACHINE LEARNING USE CASES — 2ND EDITION\\n\\nOrganizations across many industries are using machine learning to power \\nnew customer experiences, optimize business processes and improve \\nemployee productivity. From detecting financial fraud to improving the \\nplay-by-play decision-making for professional sports teams, this book \\nbrings together a multitude of practical use cases to get you started on \\nyour machine learning journey. The collection also serves as a guide — \\nincluding code samples and notebooks — so you can roll up your sleeves \\nand dive into machine learning on the Databricks Lakehouse.CHAPTER 1:\\nIntroduction\\n3\\nEBOOK: BIG BOOK OF MACHINE LEARNING USE CASES — 2ND EDITION\\n\\nOrganizations across many industries are using machine learning to power \\nnew customer experiences, optimize business processes and improve \\nemployee productivity. From detecting financial fraud to improving the \\nplay-by-play decision-making for professional sports teams, this book \\nbrings together a multitude of practical use cases to get you started on \\nyour machine learning journey. The collection also serves as a guide — \\nincluding code samples and notebooks — so you can roll up your sleeves \\nand dive into machine learning on the Databricks Lakehouse.CHAPTER 1:\\nIntroduction\\n3\\nEBOOK: BIG BOOK OF MACHINE LEARNING USE CASES — 2ND EDITION\\n\\nOrganizations across many industries are using machine learning to power \\nnew customer experiences, optimize business processes and improve \\nemployee productivity. From detecting financial fraud to improving the \\nplay-by-play decision-making for professional sports teams, this book \\nbrings together a multitude of practical use cases to get you started on \\nyour machine learning journey. The collection also serves as a guide — \\nincluding code samples and notebooks — so you can roll up your sleeves \\nand dive into machine learning on the Databricks Lakehouse.CHAPTER 1:\\nIntroduction\\n3\\nEBOOK: BIG BOOK OF MACHINE LEARNING USE CASES — 2ND EDITION\"\n",
      "}\n",
      "\u001b[32;1m\u001b[1;3m[llm/start]\u001b[0m \u001b[1m[1:chain:RetrievalQA > 3:chain:StuffDocumentsChain > 4:chain:LLMChain > 5:llm:ChatOpenAI] Entering LLM run with input:\n",
      "\u001b[0m{\n",
      "  \"prompts\": [\n",
      "    \"System: Use the following pieces of context to answer the user's question. \\nIf you don't know the answer, just say that you don't know, don't try to make up an answer.\\n----------------\\nOrganizations across many industries are using machine learning to power \\nnew customer experiences, optimize business processes and improve \\nemployee productivity. From detecting financial fraud to improving the \\nplay-by-play decision-making for professional sports teams, this book \\nbrings together a multitude of practical use cases to get you started on \\nyour machine learning journey. The collection also serves as a guide — \\nincluding code samples and notebooks — so you can roll up your sleeves \\nand dive into machine learning on the Databricks Lakehouse.CHAPTER 1:\\nIntroduction\\n3\\nEBOOK: BIG BOOK OF MACHINE LEARNING USE CASES — 2ND EDITION\\n\\nOrganizations across many industries are using machine learning to power \\nnew customer experiences, optimize business processes and improve \\nemployee productivity. From detecting financial fraud to improving the \\nplay-by-play decision-making for professional sports teams, this book \\nbrings together a multitude of practical use cases to get you started on \\nyour machine learning journey. The collection also serves as a guide — \\nincluding code samples and notebooks — so you can roll up your sleeves \\nand dive into machine learning on the Databricks Lakehouse.CHAPTER 1:\\nIntroduction\\n3\\nEBOOK: BIG BOOK OF MACHINE LEARNING USE CASES — 2ND EDITION\\n\\nOrganizations across many industries are using machine learning to power \\nnew customer experiences, optimize business processes and improve \\nemployee productivity. From detecting financial fraud to improving the \\nplay-by-play decision-making for professional sports teams, this book \\nbrings together a multitude of practical use cases to get you started on \\nyour machine learning journey. The collection also serves as a guide — \\nincluding code samples and notebooks — so you can roll up your sleeves \\nand dive into machine learning on the Databricks Lakehouse.CHAPTER 1:\\nIntroduction\\n3\\nEBOOK: BIG BOOK OF MACHINE LEARNING USE CASES — 2ND EDITION\\n\\nOrganizations across many industries are using machine learning to power \\nnew customer experiences, optimize business processes and improve \\nemployee productivity. From detecting financial fraud to improving the \\nplay-by-play decision-making for professional sports teams, this book \\nbrings together a multitude of practical use cases to get you started on \\nyour machine learning journey. The collection also serves as a guide — \\nincluding code samples and notebooks — so you can roll up your sleeves \\nand dive into machine learning on the Databricks Lakehouse.CHAPTER 1:\\nIntroduction\\n3\\nEBOOK: BIG BOOK OF MACHINE LEARNING USE CASES — 2ND EDITION\\nHuman: What is Machine Learning?\"\n",
      "  ]\n",
      "}\n",
      "\u001b[36;1m\u001b[1;3m[llm/end]\u001b[0m \u001b[1m[1:chain:RetrievalQA > 3:chain:StuffDocumentsChain > 4:chain:LLMChain > 5:llm:ChatOpenAI] [2.38s] Exiting LLM run with output:\n",
      "\u001b[0m{\n",
      "  \"generations\": [\n",
      "    [\n",
      "      {\n",
      "        \"text\": \"Machine learning is a field of artificial intelligence that focuses on the development of algorithms and models that enable computers to learn and make predictions or decisions without being explicitly programmed. It involves training a computer system on a large amount of data, allowing it to recognize patterns, make predictions, and improve its performance over time. Machine learning is used in various applications, such as image and speech recognition, natural language processing, recommendation systems, and predictive analytics.\",\n",
      "        \"generation_info\": {\n",
      "          \"finish_reason\": \"stop\"\n",
      "        },\n",
      "        \"type\": \"ChatGeneration\",\n",
      "        \"message\": {\n",
      "          \"lc\": 1,\n",
      "          \"type\": \"constructor\",\n",
      "          \"id\": [\n",
      "            \"langchain\",\n",
      "            \"schema\",\n",
      "            \"messages\",\n",
      "            \"AIMessage\"\n",
      "          ],\n",
      "          \"kwargs\": {\n",
      "            \"content\": \"Machine learning is a field of artificial intelligence that focuses on the development of algorithms and models that enable computers to learn and make predictions or decisions without being explicitly programmed. It involves training a computer system on a large amount of data, allowing it to recognize patterns, make predictions, and improve its performance over time. Machine learning is used in various applications, such as image and speech recognition, natural language processing, recommendation systems, and predictive analytics.\",\n",
      "            \"additional_kwargs\": {}\n",
      "          }\n",
      "        }\n",
      "      }\n",
      "    ]\n",
      "  ],\n",
      "  \"llm_output\": {\n",
      "    \"token_usage\": {\n",
      "      \"completion_tokens\": 87,\n",
      "      \"prompt_tokens\": 572,\n",
      "      \"total_tokens\": 659\n",
      "    },\n",
      "    \"model_name\": \"gpt-3.5-turbo\",\n",
      "    \"system_fingerprint\": null\n",
      "  },\n",
      "  \"run\": null\n",
      "}\n",
      "\u001b[36;1m\u001b[1;3m[chain/end]\u001b[0m \u001b[1m[1:chain:RetrievalQA > 3:chain:StuffDocumentsChain > 4:chain:LLMChain] [2.38s] Exiting Chain run with output:\n",
      "\u001b[0m{\n",
      "  \"text\": \"Machine learning is a field of artificial intelligence that focuses on the development of algorithms and models that enable computers to learn and make predictions or decisions without being explicitly programmed. It involves training a computer system on a large amount of data, allowing it to recognize patterns, make predictions, and improve its performance over time. Machine learning is used in various applications, such as image and speech recognition, natural language processing, recommendation systems, and predictive analytics.\"\n",
      "}\n",
      "\u001b[36;1m\u001b[1;3m[chain/end]\u001b[0m \u001b[1m[1:chain:RetrievalQA > 3:chain:StuffDocumentsChain] [2.38s] Exiting Chain run with output:\n",
      "\u001b[0m{\n",
      "  \"output_text\": \"Machine learning is a field of artificial intelligence that focuses on the development of algorithms and models that enable computers to learn and make predictions or decisions without being explicitly programmed. It involves training a computer system on a large amount of data, allowing it to recognize patterns, make predictions, and improve its performance over time. Machine learning is used in various applications, such as image and speech recognition, natural language processing, recommendation systems, and predictive analytics.\"\n",
      "}\n",
      "\u001b[36;1m\u001b[1;3m[chain/end]\u001b[0m \u001b[1m[1:chain:RetrievalQA] [6.37s] Exiting Chain run with output:\n",
      "\u001b[0m{\n",
      "  \"result\": \"Machine learning is a field of artificial intelligence that focuses on the development of algorithms and models that enable computers to learn and make predictions or decisions without being explicitly programmed. It involves training a computer system on a large amount of data, allowing it to recognize patterns, make predictions, and improve its performance over time. Machine learning is used in various applications, such as image and speech recognition, natural language processing, recommendation systems, and predictive analytics.\"\n",
      "}\n"
     ]
    },
    {
     "data": {
      "text/plain": [
       "'Machine learning is a field of artificial intelligence that focuses on the development of algorithms and models that enable computers to learn and make predictions or decisions without being explicitly programmed. It involves training a computer system on a large amount of data, allowing it to recognize patterns, make predictions, and improve its performance over time. Machine learning is used in various applications, such as image and speech recognition, natural language processing, recommendation systems, and predictive analytics.'"
      ]
     },
     "execution_count": 86,
     "metadata": {},
     "output_type": "execute_result"
    }
   ],
   "source": [
    "qa_chain.run(query)"
   ]
  },
  {
   "cell_type": "code",
   "execution_count": null,
   "metadata": {},
   "outputs": [],
   "source": []
  }
 ],
 "metadata": {
  "kernelspec": {
   "display_name": "Python 3",
   "language": "python",
   "name": "python3"
  },
  "language_info": {
   "codemirror_mode": {
    "name": "ipython",
    "version": 3
   },
   "file_extension": ".py",
   "mimetype": "text/x-python",
   "name": "python",
   "nbconvert_exporter": "python",
   "pygments_lexer": "ipython3",
   "version": "3.9.10"
  }
 },
 "nbformat": 4,
 "nbformat_minor": 2
}
