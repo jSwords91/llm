{
 "cells": [
  {
   "cell_type": "markdown",
   "metadata": {},
   "source": [
    "## **Tagging & Extracting using LLM's, LangChain & Pydantic**\n",
    "\n",
    "We can use **LangChain & Pydantic** in order to get stable outputs from LLMs.\n",
    "\n",
    "In this hypothetical scenario, let's assume we need to perform a number of tasks on a text extract, for example a complaint.\n",
    "\n",
    "Imagine that we want to know:\n",
    "- A series of customer details\n",
    "- Any particular entities mentioned\n",
    "- A summary of the complaint\n",
    "- A sentiment\n",
    "\n",
    "We can define the expected outputs as Pydantic classes."
   ]
  },
  {
   "cell_type": "code",
   "execution_count": 1,
   "metadata": {},
   "outputs": [],
   "source": [
    "import os\n",
    "import openai\n",
    "\n",
    "from langchain.utils.openai_functions import convert_pydantic_to_openai_function\n",
    "from langchain.output_parsers.openai_functions import JsonOutputFunctionsParser\n",
    "from langchain.chat_models import ChatOpenAI\n",
    "\n",
    "from template import TEMPLATE\n",
    "from models import Overview\n",
    "from utils import build_prompt, Chain\n",
    "\n",
    "from dotenv import load_dotenv, find_dotenv\n",
    "\n",
    "_ = load_dotenv(find_dotenv())  # read local .env file\n",
    "openai.api_key = os.environ[\"OPENAI_API_KEY\"]"
   ]
  },
  {
   "cell_type": "markdown",
   "metadata": {},
   "source": [
    "### **Step-By-Step**\n",
    "\n",
    "\n",
    "I have defined structured Pydantic models (models.py). These will form the basis of our structured outputs.\n",
    "\n",
    "The next steps I go through are:\n",
    "\n",
    "1. Building the prompt (using template.py)\n",
    "2. Initiating the OpenAI model\n",
    "3. Convering my Pydantic class (which itself contains several other classes) in to an OpenAI function\n",
    "4. Bind that OpenAI function to the model\n",
    "5. Create a chain of events (the prompt, the binded function & model, and a helper parser)"
   ]
  },
  {
   "cell_type": "code",
   "execution_count": 2,
   "metadata": {},
   "outputs": [],
   "source": [
    "prompt = build_prompt(TEMPLATE)\n",
    "\n",
    "model = ChatOpenAI(temperature=0)\n",
    "\n",
    "overview_tagging_function = [convert_pydantic_to_openai_function(Overview)]\n",
    "tagging_model = model.bind(\n",
    "    functions=overview_tagging_function, function_call={\"name\": \"Overview\"}\n",
    ")\n",
    "chain = prompt | tagging_model | JsonOutputFunctionsParser(key_name=\"Overview\")"
   ]
  },
  {
   "cell_type": "markdown",
   "metadata": {},
   "source": [
    "### **Hypothetical Complaint**\n",
    "\n",
    "Here we have a sample complaint which contains numerous pieces of information."
   ]
  },
  {
   "cell_type": "code",
   "execution_count": 3,
   "metadata": {},
   "outputs": [],
   "source": [
    "complaint = \"\"\"\n",
    "My name is Joe Blogs. I'm 21 yrs old, and as I am a civil engineer by trade, I can see some issues that I am not happy about.\n",
    "I'm not happy that the engineer turned up late.\n",
    "The pipe outside my house burst and it made a right mess. My friend Santos was furious, and he is 80.\n",
    "\"\"\""
   ]
  },
  {
   "cell_type": "code",
   "execution_count": 4,
   "metadata": {},
   "outputs": [
    {
     "data": {
      "text/plain": [
       "{'summary': 'Joe Blogs, 21 yrs old civil engineer, unhappy about engineer being late and pipe burst outside his house',\n",
       " 'sentiment': {'sentiment': 'Negative'},\n",
       " 'keywords': [{'word': 'Joe Blogs'},\n",
       "  {'word': '21 yrs old'},\n",
       "  {'word': 'civil engineer'},\n",
       "  {'word': 'engineer'},\n",
       "  {'word': 'late'},\n",
       "  {'word': 'pipe burst'},\n",
       "  {'word': 'house'},\n",
       "  {'word': 'mess'},\n",
       "  {'word': 'friend'},\n",
       "  {'word': 'Santos'},\n",
       "  {'word': 'furious'},\n",
       "  {'word': '80'}],\n",
       " 'people': {'people': [{'name': 'Joe Blogs',\n",
       "    'age': 21,\n",
       "    'profession': 'civil engineer'},\n",
       "   {'name': 'Santos', 'age': 80, 'profession': None}]},\n",
       " 'intensity': '3'}"
      ]
     },
     "execution_count": 4,
     "metadata": {},
     "output_type": "execute_result"
    }
   ],
   "source": [
    "chainObject = Chain(chain)\n",
    "chainObject.run(complaint)"
   ]
  },
  {
   "cell_type": "markdown",
   "metadata": {},
   "source": [
    "As the output is a dictionary, we can access each element easily."
   ]
  },
  {
   "cell_type": "code",
   "execution_count": null,
   "metadata": {},
   "outputs": [],
   "source": []
  }
 ],
 "metadata": {
  "kernelspec": {
   "display_name": "Python 3",
   "language": "python",
   "name": "python3"
  },
  "language_info": {
   "codemirror_mode": {
    "name": "ipython",
    "version": 3
   },
   "file_extension": ".py",
   "mimetype": "text/x-python",
   "name": "python",
   "nbconvert_exporter": "python",
   "pygments_lexer": "ipython3",
   "version": "3.11.3"
  }
 },
 "nbformat": 4,
 "nbformat_minor": 2
}
